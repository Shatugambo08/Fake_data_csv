{
  "nbformat": 4,
  "nbformat_minor": 0,
  "metadata": {
    "colab": {
      "provenance": [],
      "authorship_tag": "ABX9TyOOHB1JtTSux283rXlqhwkc",
      "include_colab_link": true
    },
    "kernelspec": {
      "name": "python3",
      "display_name": "Python 3"
    },
    "language_info": {
      "name": "python"
    }
  },
  "cells": [
    {
      "cell_type": "markdown",
      "metadata": {
        "id": "view-in-github",
        "colab_type": "text"
      },
      "source": [
        "<a href=\"https://colab.research.google.com/github/Shatugambo08/Fake_data_csv/blob/main/ETL%20faker.ipynb\" target=\"_parent\"><img src=\"https://colab.research.google.com/assets/colab-badge.svg\" alt=\"Open In Colab\"/></a>"
      ]
    },
    {
      "cell_type": "code",
      "execution_count": 34,
      "metadata": {
        "id": "7folxi6jI02d",
        "colab": {
          "base_uri": "https://localhost:8080/"
        },
        "outputId": "44c076a2-b3cd-412b-feb7-82136ff94d36"
      },
      "outputs": [
        {
          "output_type": "stream",
          "name": "stdout",
          "text": [
            "Requirement already satisfied: Faker in /usr/local/lib/python3.11/dist-packages (37.4.0)\n",
            "Requirement already satisfied: tzdata in /usr/local/lib/python3.11/dist-packages (from Faker) (2025.2)\n"
          ]
        }
      ],
      "source": [
        "!pip install Faker\n",
        "from faker import Faker\n",
        "\n",
        "fake = Faker('en_UK')\n",
        "\n",
        "import random\n",
        "import uuid\n",
        "import json\n",
        "def generate_sample_data(num_records=100):\n",
        "  data = []\n",
        "  for _ in range(num_records):\n",
        "    record = {\n",
        "        'Full Name': fake.name(),\n",
        "        'Phone Number': fake.phone_number(),\n",
        "        'Email Address': fake.email(),\n",
        "        'Job Title': fake.job(),\n",
        "        'City': fake.city()\n",
        "    }\n",
        "    data.append(record)\n",
        "  return data"
      ]
    },
    {
      "cell_type": "code",
      "source": [
        "def process_data(data, batch_size):\n",
        "   for i in range(0, len(data), batch_size):\n",
        "        yield data[i:i + batch_size]\n",
        "        time.sleep(2)"
      ],
      "metadata": {
        "id": "j44cz3zpJ9Rq"
      },
      "execution_count": 33,
      "outputs": []
    },
    {
      "cell_type": "code",
      "source": [
        "def transform_data(batch):\n",
        "    for record in batch:\n",
        "        phone = record['Phone Number']\n",
        "        phone = re.sub(r'\\D', '', phone)\n",
        "        if len(phone) == 10:\n",
        "            phone = '1' + phone\n",
        "        record['Phone Number'] = phone\n",
        "    return batch"
      ],
      "metadata": {
        "id": "bb_jU6faLS7m"
      },
      "execution_count": 26,
      "outputs": []
    },
    {
      "cell_type": "code",
      "source": [
        "def load(data, filename):\n",
        " with open(filename, 'w', newline='') as csvfile:\n",
        "        fieldnames = ['Full Name', 'Phone Number', 'Email Address', 'Job Title', 'City']\n",
        "        writer = csv.DictWriter(csvfile, fieldnames=fieldnames)\n",
        "        writer.writeheader()\n",
        "        for record in data:\n",
        "            writer.writerow(record)"
      ],
      "metadata": {
        "id": "HgKV5DVHdZfD"
      },
      "execution_count": 27,
      "outputs": []
    },
    {
      "cell_type": "code",
      "source": [
        "def main():\n",
        "    num_records = 100\n",
        "    raw_data = generate(num_records)\n",
        "    processed_data = process(raw_data)\n",
        "    transformed_data = transform(processed_data)\n",
        "    load(transformed_data, 'fake_data.csv')\n",
        "    print(\"Data generated and saved to fake_data.csv\")"
      ],
      "metadata": {
        "id": "z4dHtqY7M5JQ"
      },
      "execution_count": 32,
      "outputs": []
    }
  ]
}